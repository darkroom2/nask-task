{
 "cells": [
  {
   "cell_type": "markdown",
   "source": [
    "#### GET \"Hello, World!\"! :)"
   ],
   "metadata": {
    "collapsed": false
   }
  },
  {
   "cell_type": "code",
   "execution_count": 12,
   "outputs": [
    {
     "name": "stdout",
     "output_type": "stream",
     "text": [
      "{\"task\":\"nask\"}"
     ]
    }
   ],
   "source": [
    "!curl -X GET --location \"http://127.0.0.1:8000\" \\\n",
    "    -H \"Accept: application/json\""
   ],
   "metadata": {
    "collapsed": false
   }
  },
  {
   "cell_type": "markdown",
   "source": [
    "#### POST notification with results"
   ],
   "metadata": {
    "collapsed": false
   }
  },
  {
   "cell_type": "code",
   "execution_count": 13,
   "outputs": [
    {
     "name": "stdout",
     "output_type": "stream",
     "text": [
      "{\"status\":\"task not finished\"}"
     ]
    }
   ],
   "source": [
    "!curl -X POST --location \"http://127.0.0.1:8000\" \\\n",
    "    -H \"Accept: application/json\" \\\n",
    "    -H \"Content-Type: application/json\" \\\n",
    "    -d \"{\\\"id\\\": 1, \\\"status\\\": \\\"PENDING\\\", \\\"type\\\": \\\"prime\\\", \\\"notify_url\\\": \\\"http://127.0.0.1:8000/\\\", \\\"payload\\\": {\\\"input\\\": 101}}\""
   ],
   "metadata": {
    "collapsed": false
   }
  },
  {
   "cell_type": "markdown",
   "source": [],
   "metadata": {
    "collapsed": false
   }
  },
  {
   "cell_type": "code",
   "execution_count": 16,
   "outputs": [
    {
     "name": "stdout",
     "output_type": "stream",
     "text": [
      "Internal Server Error"
     ]
    }
   ],
   "source": [
    "!curl -X POST --location \"http://127.0.0.1:8000/api/tasks/\" \\\n",
    "    -H \"Accept: application/json\" \\\n",
    "    -H \"Content-Type: application/json\" \\\n",
    "    -d \"{\\\"type\\\": \\\"sleep\\\", \\\"notify_url\\\": \\\"http://127.0.0.1:8000/\\\", \\\"payload\\\": {\\\"input\\\": 1}}\""
   ],
   "metadata": {
    "collapsed": false
   }
  },
  {
   "cell_type": "code",
   "execution_count": 97,
   "outputs": [
    {
     "name": "stdout",
     "output_type": "stream",
     "text": [
      "{\"detail\":\"Task with id: 3a160c12-194e-4f9e-85c4-b6b1213d67d1 not found\"}"
     ]
    }
   ],
   "source": [
    "!curl -X GET --location \"http://127.0.0.1:8000/api/tasks/3a160c12-194e-4f9e-85c4-b6b1213d67d1\" \\\n",
    "    -H \"Accept: application/json\""
   ],
   "metadata": {
    "collapsed": false
   }
  },
  {
   "cell_type": "code",
   "execution_count": null,
   "outputs": [],
   "source": [],
   "metadata": {
    "collapsed": false
   }
  }
 ],
 "metadata": {
  "kernelspec": {
   "display_name": "Python 3",
   "language": "python",
   "name": "python3"
  },
  "language_info": {
   "codemirror_mode": {
    "name": "ipython",
    "version": 2
   },
   "file_extension": ".py",
   "mimetype": "text/x-python",
   "name": "python",
   "nbconvert_exporter": "python",
   "pygments_lexer": "ipython2",
   "version": "2.7.6"
  }
 },
 "nbformat": 4,
 "nbformat_minor": 0
}

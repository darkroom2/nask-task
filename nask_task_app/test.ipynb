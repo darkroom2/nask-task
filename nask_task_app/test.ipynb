{
 "cells": [
  {
   "cell_type": "code",
   "execution_count": 1,
   "outputs": [],
   "source": [
    "import requests"
   ],
   "metadata": {
    "collapsed": false
   }
  },
  {
   "cell_type": "markdown",
   "source": [
    "#### GET \"Hello, World!\"! :)"
   ],
   "metadata": {
    "collapsed": false
   }
  },
  {
   "cell_type": "code",
   "execution_count": 2,
   "outputs": [
    {
     "name": "stdout",
     "output_type": "stream",
     "text": [
      "{\"task\":\"nask\"}"
     ]
    }
   ],
   "source": [
    "!curl -X GET --location \"http://127.0.0.1:8000\" \\\n",
    "    -H \"Accept: application/json\""
   ],
   "metadata": {
    "collapsed": false
   }
  },
  {
   "cell_type": "markdown",
   "source": [
    "#### POST notification with results"
   ],
   "metadata": {
    "collapsed": false
   }
  },
  {
   "cell_type": "code",
   "execution_count": 3,
   "outputs": [
    {
     "name": "stdout",
     "output_type": "stream",
     "text": [
      "{\"status\":\"task not finished\"}"
     ]
    }
   ],
   "source": [
    "!curl -X POST --location \"http://127.0.0.1:8000\" \\\n",
    "    -H \"Accept: application/json\" \\\n",
    "    -H \"Content-Type: application/json\" \\\n",
    "    -d \"{\\\"id\\\": 1, \\\"status\\\": \\\"PENDING\\\", \\\"type\\\": \\\"prime\\\", \\\"notify_url\\\": \\\"http://127.0.0.1:8000/\\\", \\\"payload\\\": {\\\"input\\\": 101}}\""
   ],
   "metadata": {
    "collapsed": false
   }
  },
  {
   "cell_type": "markdown",
   "source": [],
   "metadata": {
    "collapsed": false
   }
  },
  {
   "cell_type": "code",
   "execution_count": 8,
   "outputs": [
    {
     "name": "stdout",
     "output_type": "stream",
     "text": [
      "{'_content': b'{\"detail\":[{\"loc\":[\"body\",\"notify_url\"],\"msg\":\"URL host invalid, top level domain required\",\"type\":\"value_error.url.host\"}]}', '_content_consumed': True, '_next': None, 'status_code': 422, 'headers': {'date': 'Sun, 30 Oct 2022 09:00:14 GMT', 'server': 'uvicorn', 'content-length': '124', 'content-type': 'application/json'}, 'raw': <urllib3.response.HTTPResponse object at 0x7f5550573220>, 'url': 'http://127.0.0.1:8000/api/tasks/', 'encoding': 'utf-8', 'history': [], 'reason': 'Unprocessable Entity', 'cookies': <RequestsCookieJar[]>, 'elapsed': datetime.timedelta(microseconds=2189), 'request': <PreparedRequest [POST]>, 'connection': <requests.adapters.HTTPAdapter object at 0x7f554852d030>}\n"
     ]
    }
   ],
   "source": [
    "response = requests.post(\"http://127.0.0.1:8000/api/tasks/\", json={\n",
    "    \"type\": \"sleep\",\n",
    "    \"notify_url\": \"http://localhost:8000/\",\n",
    "    \"payload\": {\"input\": 5}\n",
    "})\n",
    "print(vars(response))"
   ],
   "metadata": {
    "collapsed": false
   }
  },
  {
   "cell_type": "code",
   "execution_count": 6,
   "outputs": [
    {
     "data": {
      "text/plain": "<Response [422]>"
     },
     "execution_count": 6,
     "metadata": {},
     "output_type": "execute_result"
    }
   ],
   "source": [],
   "metadata": {
    "collapsed": false
   }
  },
  {
   "cell_type": "code",
   "execution_count": 97,
   "outputs": [
    {
     "name": "stdout",
     "output_type": "stream",
     "text": [
      "{\"detail\":\"Task with id: 3a160c12-194e-4f9e-85c4-b6b1213d67d1 not found\"}"
     ]
    }
   ],
   "source": [
    "!curl -X GET --location \"http://127.0.0.1:8000/api/tasks/3a160c12-194e-4f9e-85c4-b6b1213d67d1\" \\\n",
    "    -H \"Accept: application/json\""
   ],
   "metadata": {
    "collapsed": false
   }
  }
 ],
 "metadata": {
  "kernelspec": {
   "display_name": "Python 3",
   "language": "python",
   "name": "python3"
  },
  "language_info": {
   "codemirror_mode": {
    "name": "ipython",
    "version": 2
   },
   "file_extension": ".py",
   "mimetype": "text/x-python",
   "name": "python",
   "nbconvert_exporter": "python",
   "pygments_lexer": "ipython2",
   "version": "2.7.6"
  }
 },
 "nbformat": 4,
 "nbformat_minor": 0
}
